{
 "cells": [
  {
   "cell_type": "markdown",
   "id": "26a43330-16e7-446a-b3bc-c7298d30431b",
   "metadata": {},
   "source": [
    "# <center>Assignment 5 </center>"
   ]
  },
  {
   "cell_type": "markdown",
   "id": "487dacfd-f3fe-4841-9ccd-42af014b34ff",
   "metadata": {},
   "source": [
    "### 1. We have seen in linear regression when the cost function is\n",
    "$$\n",
    "J(\\theta) = \\frac{1}{2} \\sum_{i=1}^{m} (\\theta^T x^{(i)} - y^{(i)})^2 \n",
    "$$\n",
    "### the closed form formula for θ is given by\n",
    "$$\n",
    "\\theta = (X^T X + \\lambda I)^{-1} X^T y\n",
    "$$\n",
    "### Now consider the cost function\n",
    "$$\n",
    "J(\\theta) = \\frac{1}{2} \\sum_{i=1}^{m} (\\theta^T x^{(i)} - y^{(i)})^2 + \\frac{\\lambda}{2} ||\\theta||^2 = \\frac{1}{2} (X\\theta - \\vec{y})^T (X\\theta - \\vec{y}) + \\frac{\\lambda}{2} ||\\theta||^2$$\n"
   ]
  },
  {
   "cell_type": "markdown",
   "id": "63ba8318-ae72-47ee-810e-f6503206e8f3",
   "metadata": {},
   "source": [
    "The Cost Function : <br>\n",
    "$$J(\\theta) = \\frac{1}{2} \\sum_{i=1}^{m} (\\theta^T x^{(i)} - y^{(i)})^2 + \\frac{\\lambda}{2} ||\\theta||^2 $$ \n",
    "The Cost Function is regularized regression cost function, also known as Ridge Regression. The reguarlization term \n",
    "$$ \\frac{\\lambda}{2} ||\\theta||^2 $$ \n",
    "is added to prevent overfitting by penalizing large values of the parameters. <br>\n",
    "To find the closed form we will Minimize $$ J(\\theta) $$\n",
    "$$\n",
    "\\frac{\\partial J(\\theta)}{\\partial \\theta} = X^T (X\\theta - \\vec{y}) + \\lambda \\theta = 0\n",
    "$$\n",
    "\n",
    "Expanding, we get:\n",
    "\n",
    "$$\n",
    "X^T X \\theta - X^T \\vec{y} + \\lambda \\theta = 0\n",
    "$$\n",
    "\n",
    "$$\n",
    "X^T X \\theta + \\lambda \\theta = X^T \\vec{y}\n",
    "$$\n",
    "$$\n",
    "(X^T X + \\lambda I) \\theta^{-1} X^T \\vec{y}\n",
    "$$\n"
   ]
  },
  {
   "cell_type": "markdown",
   "id": "3901fc1a-f6ba-4e9b-bda4-f549d130cfe2",
   "metadata": {},
   "source": [
    "### 2. Explain Gini impurity with an example."
   ]
  },
  {
   "cell_type": "markdown",
   "id": "14c9d712-f4ee-478a-9010-60a369567eef",
   "metadata": {},
   "source": [
    "Gini Impurity measure of how often a randomly chosen element from the set would be incorrectly labeled if it was randomly labeled\n",
    "according to the distribution of labels in the set.\n",
    "$$\n",
    "Gini(p) = 1 - \\sum (p_i)^2\n",
    "$$\n",
    "Lower Gini impurity means elements are more likely to be correctly\n",
    "labeled. <br>\n",
    "Suppose we have a dataset of 100 individuals, 50 of whom are men (labelled ‘M’) and 50 of whom are women (labelled ‘F’). If we were to randomly pick an individual, the probability of them being a man (p(M)) is 0.5 and the probability of them being a woman (p(F)) is also 0.5.\n",
    "\n",
    "The Gini impurity of this dataset would be:\n",
    "$$\n",
    "Gini(p) = 1 - [(p(M))^2 + (p(F))^2]\n",
    "$$\n",
    "So, the Gini impurity for this dataset is 0.5. This indicates that if we\n",
    "randomly labeled an element in this dataset based on the distribution\n",
    "of labels (50% Male, 50% female), there’s a 50% chance that the\n",
    "label would be incorrect.\n"
   ]
  },
  {
   "cell_type": "markdown",
   "id": "a5942b6f-87f1-4f8d-a3ee-1a145ab4c658",
   "metadata": {},
   "source": [
    "### 3. Explain Entropy of a dataset with an example."
   ]
  },
  {
   "cell_type": "markdown",
   "id": "c24e60c9-d0a5-48ee-862b-67bd0ef31e7d",
   "metadata": {},
   "source": [
    "Entropy is the average amount of information produced by a data set, how disorder the\n",
    "distribution is or how uncertain the data is. More disorder or randomness will imply high entropy, less randomness implies low entropy.\n",
    "In decision tree our goal is to minimize the entropy (or minimize the\n",
    "randomness after splitting the dataset)\n",
    "$$\n",
    "Entropy(S) = - \\sum_{i=1}^{n} p_i \\log_2(p_i)\n",
    "$$\n",
    "Suppose we have a dataset of 20 animals, 10 of which are dogs and 10 of which are cats. If we were to randomly pick an animal, the probability of it being a dog (p(Dog)) is 0.5 and the probability of it being a cat (p(Cat)) is also 0.5.\n",
    "$$\n",
    "Entropy(S) = - [p(Dog) \\log_2(p(Dog)) + p(Cat) \\log_2(p(Cat)] = - [0.5 \\log_2(0.5) + 0.5 \\log_2(0.5)] = 1\n",
    "$$\n",
    "This value (1) is the highest possible entropy and indicates that the classes are perfectly mixed (i.e., the dataset is as impure as it can get)."
   ]
  },
  {
   "cell_type": "markdown",
   "id": "3425ead3-01ab-47ce-a9ab-c95f5a6b90c0",
   "metadata": {},
   "source": [
    "### 4. Is a Node’s Entropy is generally higher than it’s parent’s entropy? Justify your answer."
   ]
  },
  {
   "cell_type": "markdown",
   "id": "3aa99612-3f3c-41b5-b0f1-efd87f8e39c2",
   "metadata": {},
   "source": [
    "No, a node’s entropy is generally not higher than its parent’s entropy. In fact, the goal of splitting a node in a decision tree is to decrease entropy, which means making the data more orderly or pure.\n",
    "\n",
    "When a node in a decision tree is split, the dataset is divided into two or more subsets. The aim is to organize the data in such a way that each subset contains instances that are as similar as possible to each other (i.e., belong to the same class) and as different as possible from instances in other subsets. This would result in a decrease in entropy because the subsets are more orderly or pure than the original set.\n",
    "\n",
    "The decision tree algorithm chooses the splits that result in the largest decrease in entropy. Therefore, child nodes should have lower entropy than their parent node."
   ]
  },
  {
   "cell_type": "markdown",
   "id": "d211a851-039f-4d6c-9d6e-3e0654d8f77a",
   "metadata": {},
   "source": [
    "### 5. Difference between the followings\n",
    "- Bagging and Boosting \n",
    "- Random Forest and Bagged decision tree\n",
    "- Splitting and pruning\n",
    "- Hard Voting and soft voting\n",
    "- K Means clustering and K nearest neighbors\n"
   ]
  },
  {
   "cell_type": "markdown",
   "id": "c3b9fe19-b0e3-4bda-b24a-a76fd681be73",
   "metadata": {},
   "source": [
    "  <b> &emsp; &ensp; Bagging </b>\n",
    "- The simplest way of combining predictions that \n",
    "belong to the same type.\n",
    "- Aim to decrease variance, not bias.\n",
    "- Each model receives equal weight.\n",
    "- Bagging tries to solve the over-fitting problem.<br>\n",
    "<b>Boosting</b>\n",
    "- A way of combining predictions that \n",
    "belong to the different types.\n",
    "- Aim to decrease bias, not variance.\n",
    "- Models are weighted according to their performance.\n",
    "- Boosting tries to reduce bias."
   ]
  },
  {
   "cell_type": "markdown",
   "id": "207f4be3-eab1-41b6-a11b-531f004427cf",
   "metadata": {},
   "source": [
    "<b> &emsp; &ensp; Random Forest </b>\n",
    "- Ensemble of multiple decision trees\n",
    "- Due to ensemble averaging it is less prone to overfitting.\n",
    "- Since multiple trees are constructed, training time becomes more, and training speed becomes less.\n",
    "- Multiple predictions, hence longer prediction time and slower prediction speed. <br> <br>\n",
    "<b> Bagged Decision Tree</b> \n",
    "- Single Decision Tree\n",
    "- More prone to overfitting specially in case of deep trees.\n",
    "- A single tree needs to be built and trained, hence faster in comparison.\n",
    "- Faster prediction as compared to random forest, since a single prediction is made."
   ]
  },
  {
   "cell_type": "markdown",
   "id": "9030d244-3fa8-4394-880e-71603b9a3a83",
   "metadata": {},
   "source": [
    "<b> Splitting: </b> Dividing a node into two or more child nodes. <br>\n",
    "<b>Pruning:</b> The opposite process of splitting. When we remove the\n",
    "sub-node of a decision node"
   ]
  },
  {
   "cell_type": "markdown",
   "id": "aeafb110-4c30-43a4-a5d2-ecd893682932",
   "metadata": {},
   "source": [
    "<b> Hard Voting </b>\n",
    "Hard voting is a simple algorithm that can be used to combine the predictions of multiple classifiers. The algorithm works by first having each classifier make a prediction. The ensemble’s prediction is then simply the majority vote of the individual classifiers. <br>\n",
    "<b> Soft Voting </b>\n",
    "Soft voting is an algorithm that can be used to combine the predictions of multiple classifiers using the probability of predictions. The algorithm works by first having each classifier assign a probability to each class. The ensemble’s prediction is then simply the class with the highest total probability."
   ]
  },
  {
   "cell_type": "markdown",
   "id": "491335f4-d6c3-46f7-bcbe-158ff4996897",
   "metadata": {},
   "source": [
    "<b> K means vs KNN </b>\n",
    "\n",
    "The k parameter is utilized by both the machine learning methods kNN and k−means clustering, however they are applied to distinct problems and function in different ways. \n",
    "\n",
    "The key distinction between kNN and k−means clustering is that whereas kNN is a supervised learning technique used for classification and regression problems, k−means clustering is an unsupervised learning approach.\n",
    "\n",
    "kNN works by finding the k nearest data points in the training dataset to a new input, and then using their labels (in the case of classification) or values (in the case of regression) to predict the output for the new input. On the other hand, k−means clustering aims to group similar data points into k clusters based on their feature similarities, without the use of labels.\n",
    "\n",
    "Another difference is that kNN calculates the distance between the new input and all the data points in the training set to find the k nearest neighbors, while k−means clustering iteratively updates the cluster centers based on the mean of the data points assigned to each cluster"
   ]
  },
  {
   "cell_type": "markdown",
   "id": "2c389ee8-3d1b-43b0-8054-17f89f3376ed",
   "metadata": {},
   "source": [
    "### 6. What is Information gain in Decision tree? How is it related to Entropy?\n",
    "\n"
   ]
  },
  {
   "cell_type": "markdown",
   "id": "34795ae2-0ec0-4648-857c-3c6159b15173",
   "metadata": {},
   "source": [
    "Information Gain is a concept used in decision tree algorithms to decide the best attribute for splitting the data. It measures how much “information” a feature gives us about the class. The feature that gives the highest information gain is chosen as the splitting attribute.\n",
    "$$\n",
    "Information\\ Gain(S, A) = Entropy(S) - \\sum_{v \\in Values(A)} \\frac{|S_v|}{|S|} Entropy(S_v)\n",
    "$$\n",
    "Information gain measures the reduction in entropy (or increase in homogeneity) that results from splitting a dataset based on a particular feature.\n",
    "Higher information gain indicates a more informative split, as it leads to a greater reduction in entropy and thus more homogenous child nodes."
   ]
  },
  {
   "cell_type": "markdown",
   "id": "0ddd2a02-cbd4-4dd7-93d7-a859009514d7",
   "metadata": {},
   "source": [
    "### 7. What are the disadvantages of K-means clustering over other unsupervised algorithms?"
   ]
  },
  {
   "cell_type": "markdown",
   "id": "f4a93678-36fd-4bb0-9727-d99adb7af9af",
   "metadata": {},
   "source": [
    "Disadvantages of k-means\n",
    "- Choosing k\n",
    " manually.\n",
    "- Being dependent on initial values.\n",
    "\n",
    "- Clustering data of varying sizes and density.\n",
    "\n",
    "- k-means has trouble clustering data where clusters are of varying sizes and density. To cluster such data, you need to generalize k-means as described in the Advantages section.\n",
    "\n",
    "- Clustering outliers.\n",
    "\n",
    "- Centroids can be dragged by outliers, or outliers might get their own cluster instead of being ignored. Consider removing or clipping outliers before clustering.\n",
    "\n",
    "- Scaling with number of dimensions."
   ]
  },
  {
   "cell_type": "markdown",
   "id": "c3521e1c-b475-45f8-b648-68e9718e8901",
   "metadata": {},
   "source": [
    "### 8. Write a python program to calculate the entropy of a dataset if the dataset, a particular feature in the dataset and a value in that feature is given to you."
   ]
  },
  {
   "cell_type": "code",
   "execution_count": 7,
   "id": "e08961db-e984-46c6-b08c-1f2010accc43",
   "metadata": {},
   "outputs": [],
   "source": [
    "import numpy as np\n",
    "\n",
    "def calculate_entropy(dataset, feature_index, value):\n",
    "    # Extract the target variable column\n",
    "    target_column = dataset[:, -1]\n",
    "    \n",
    "    # Filter the dataset based on the given feature and value\n",
    "    filtered_data = dataset[dataset[:, feature_index] == value]\n",
    "    \n",
    "    # Calculate the proportion of each class in the filtered data\n",
    "    class_counts = np.bincount(filtered_data[:, -1].astype(int))\n",
    "    class_probabilities = class_counts / len(filtered_data)\n",
    "    \n",
    "    # Calculate entropy\n",
    "    entropy = -np.sum(class_probabilities * np.log2(class_probabilities + 1e-10))\n",
    "    \n",
    "    return entropy"
   ]
  },
  {
   "cell_type": "markdown",
   "id": "d00d2dfd-173f-4ca9-8ce0-db0666376450",
   "metadata": {},
   "source": [
    "# 11. Using the following dataset, find the final Cluster with initial centroid [1, 1] and [3, 3]"
   ]
  },
  {
   "cell_type": "code",
   "execution_count": 6,
   "id": "1ee493e9-d2c1-4f0c-8459-f03d33c7f810",
   "metadata": {},
   "outputs": [
    {
     "data": {
      "image/png": "[encoded data removed]",
      "text/plain": [
       "<Figure size 640x480 with 1 Axes>"
      ]
     },
     "metadata": {},
     "output_type": "display_data"
    }
   ],
   "source": [
    "import numpy as np\n",
    "from sklearn.cluster import KMeans\n",
    "import matplotlib.pyplot as plt\n",
    "X=np.array([[1,1] ,[1,2] ,[2,2] ,[2,3] ,[3,4] ,[4,4] ,[5,1] ,[5,2] ,[5,3]])\n",
    "centroids=np.array([[1,1],[3,3]])\n",
    "l=[]\n",
    "kmeans=KMeans(n_clusters=2, init=centroids,n_init=1, random_state=7)\n",
    "kmeans.fit(X)\n",
    "final=kmeans.cluster_centers_\n",
    "labels=kmeans.labels_\n",
    "\n",
    "plt.scatter(X[:,0], X[:,1], c=labels, cmap='viridis', marker='o', label='Data Points')\n",
    "plt.scatter(final[:,0], final[:,1], c='red', marker='x', label='Centroids')\n",
    "plt.title('K-Means')\n",
    "plt.xlabel('x1')\n",
    "plt.ylabel('x2')\n",
    "plt.grid(True)\n",
    "plt.show()"
   ]
  },
  {
   "cell_type": "code",
   "execution_count": 11,
   "id": "af152511-d353-4b69-9151-6d5e8a5effc4",
   "metadata": {},
   "outputs": [
    {
     "data": {
      "image/png": "[encoded data removed]",
      "text/plain": [
       "<Figure size 640x480 with 1 Axes>"
      ]
     },
     "metadata": {},
     "output_type": "display_data"
    }
   ],
   "source": [
    "\"or\"\n",
    "X=np.array([[1,1] ,[1,2] ,[2,2] ,[2,3] ,[3,4] ,[4,4] ,[5,1] ,[5,2] ,[5,3]])\n",
    "from sklearn.cluster import KMeans\n",
    "l=[]\n",
    "for i in range(1,3):\n",
    "    kmeans=KMeans(n_clusters=i, init='k-means++', random_state=7)\n",
    "    y_predict=kmeans.fit_predict(X)\n",
    "    l.append(kmeans.inertia_)\n",
    "final=kmeans.cluster_centers_\n",
    "plt.scatter(final[:,0], final[:,1], c='red', marker='x', label='Centroids')\n",
    "plt.scatter(X[y_predict==0,0], X[y_predict==0,1],s=100,c='blue', label='Cluster1')\n",
    "plt.scatter(X[y_predict==1,0], X[y_predict==1,1],s=100,c='red', label='Cluster2')\n",
    "plt.grid(True)\n",
    "plt.title('K-Means')\n",
    "plt.xlabel('x1')\n",
    "plt.ylabel('x2')\n",
    "plt.grid(True)\n",
    "plt.show()"
   ]
  },
  {
   "cell_type": "code",
   "execution_count": null,
   "id": "fe4fe337-ebb1-4369-af7c-da9c874b4a25",
   "metadata": {},
   "outputs": [],
   "source": []
  }
 ],
 "metadata": {
  "kernelspec": {
   "display_name": "Python 3 (ipykernel)",
   "language": "python",
   "name": "python3"
  },
  "language_info": {
   "codemirror_mode": {
    "name": "ipython",
    "version": 3
   },
   "file_extension": ".py",
   "mimetype": "text/x-python",
   "name": "python",
   "nbconvert_exporter": "python",
   "pygments_lexer": "ipython3",
   "version": "3.12.3"
  }
 },
 "nbformat": 4,
 "nbformat_minor": 5
}
