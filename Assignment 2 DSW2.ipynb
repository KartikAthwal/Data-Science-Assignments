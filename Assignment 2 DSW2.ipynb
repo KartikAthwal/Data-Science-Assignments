{
 "cells": [
  {
   "cell_type": "markdown",
   "metadata": {},
   "source": [
    "# <center> Assignment 2 </center>"
   ]
  },
  {
   "cell_type": "markdown",
   "metadata": {},
   "source": [
    " ### 1. An Earphone manufacturing company claims that the average life of its product is 2.1 years. If the standard deviation is 0.17 and the significance level is set to 0.05. Do hypothesis testing to see if company’s claim is right or wrong? "
   ]
  },
  {
   "cell_type": "markdown",
   "metadata": {},
   "source": [
    "Given: μ=2.1 years <br>\n",
    "       sigma=0.17 <br>\n",
    "       significance level= 0.05  <br> \n",
    "       n=10<br>\n",
    "H0: μ= 2.1\n",
    "H1: μ≠2.1\n",
    "The sample mean (x̄) is (1.9+2.3+2.1+2.2+1.9+2.4+2.1+2.3+2.2+2.0)/10 = 2.14 years. <br>\n",
    "sample standard deviation= 0.16 <br>\n",
    "The standard error (SE) is <br>\n",
    "SE = s/√n <br>\n",
    "SE =0.17/√10 = 0.0537 <br> <br>\n",
    "\n",
    "z=x̄-μ/SE= 0.744 <br> <br>\n",
    "\n",
    "value of z for significane level 0.05 (Since this is a two-tailed test, we'll look up the critical z-value for a significance level of 0.025 on each tail.)= (-1.96, +1.96) <br>\n",
    "\n",
    "Since \n",
    "∣0.7436∣<1.96, we fail to reject the null hypothesis.\n",
    " "
   ]
  },
  {
   "cell_type": "markdown",
   "metadata": {},
   "source": [
    "### 2. What can you say if the company had claimed that the average life of it’s batteries are 4.1 with a standard deviation of 0.1\n"
   ]
  },
  {
   "cell_type": "markdown",
   "metadata": {},
   "source": [
    "H0:  μ=4.1 <br>\n",
    "H1:  μ≠4.1 <br>\n",
    "S=0.1<br>\n",
    "Sample mean= 2.14 years<br>\n",
    "z= sample mean-  μ/ S/ (n\\**1/2)= -61.98<br>\n",
    "Value of z for 0.1 significance level= (-1.64, +1.64)<br>\n",
    "Since ∣61.98∣>1.64, we reject the null hypothesis. <br>\n",
    " "
   ]
  },
  {
   "cell_type": "markdown",
   "metadata": {},
   "source": [
    "### 3. What are random variables? Discuss about continuous and discrete random variables with examples"
   ]
  },
  {
   "cell_type": "markdown",
   "metadata": {},
   "source": [
    "Random Variable X=x, is interpreted as the set of elements in the sample space, which are mapped to x <br>\n",
    "Random Variable X is a function mapping probability space to the Real numbers/ a function that assigns values to each of an experiment's outcomes. (it is neither random nor variable XD don't write this bracket in exam. ) <br> <br>\n",
    "\n",
    "Discrete Random Variables: These are variables that take on a countable number of distinct values. Think of them as values you can list out. The list may be infinite, but you could write them down one by one. Eg: rolling a die, tossing a coin, number of defectives. <br>\n",
    "\n",
    "Continuous Random Variables: These are variables that can take on any value in a given range or interval. They have an infinite number of possible values. Eg: Height of an individual, weight of an individual, Temperature."
   ]
  },
  {
   "cell_type": "markdown",
   "metadata": {},
   "source": [
    "### 4. Write a program\n",
    "1. To compute the mean, median and mode of a python list.<br>\n",
    "2. To compute the variance and standrad deviation of a vector(list). <br>\n",
    "3. To compute the covariance and correlation between two vectors(list)."
   ]
  },
  {
   "cell_type": "code",
   "execution_count": 3,
   "metadata": {},
   "outputs": [
    {
     "name": "stdout",
     "output_type": "stream",
     "text": [
      " Mean:5, Median:5.0, Mode: 5\n"
     ]
    }
   ],
   "source": [
    "\"\"\"1. IF NUMPY IS ALLOWED DO np.mean(), np.median, np.mode (), IF NOT THEN\n",
    "USE STATISTICS LIBRARY LIKE \"\"\"\n",
    "from statistics import *\n",
    "data = [1, 2, 3, 4, 5, 5, 6, 7, 8, 9]\n",
    "print(f' Mean:{mean(data)}, Median:{median(data)}, Mode: {mode(data)}')\n",
    "\n",
    "#MAKE A SINGLE FUNCTION FOR ALL THESE FOR CONTINOUS USE IN DIFFERENT DATA\n",
    "#ALSO IF YOU FORGET THIS TOO USE THE CONVENTIONAL FORMULAS FROM STANDARD 7"
   ]
  },
  {
   "cell_type": "code",
   "execution_count": 13,
   "metadata": {},
   "outputs": [
    {
     "name": "stdout",
     "output_type": "stream",
     "text": [
      " Variance: 6.67, Standard Deviation:2.58\n"
     ]
    }
   ],
   "source": [
    "#2. FOR NUMPY USE np.var(data), np.std(data) or USE STATISTICS LIBRARY AS BELOW \n",
    "print(f' Variance: {variance(data):.2f}, Standard Deviation:{stdev(data):.2f}')\n",
    "\n",
    "\"\"\"USING .2f to get only 2 floating points and string formatting \n",
    "cause I hate putting too many commas and qoutes every time a variable comes.\"\"\"\n",
    "\n",
    "#USE CONVENTIONAL FORMULAS IF YOU DON'T WANNA DO THIS WAY."
   ]
  },
  {
   "cell_type": "code",
   "execution_count": 24,
   "metadata": {},
   "outputs": [
    {
     "name": "stdout",
     "output_type": "stream",
     "text": [
      "Covariance:-2.5, Correlation: -0.9999999999999999\n"
     ]
    }
   ],
   "source": [
    "\"\"\"3. FOR NUMPY USE np.cov(data1, data2)[0,1],np.corrcoef(data1, data2)[0,1] \n",
    "OR USE PANDAS AS FOLLOWS:\"\"\"\n",
    "import pandas as pd\n",
    "data1 = [1, 2, 3, 4, 5]\n",
    "data2 = [5, 4, 3, 2, 1]\n",
    "df = pd.DataFrame({'data1': data1, 'data2': data2})\n",
    "cov= df['data1'].cov(df['data2'])\n",
    "corr=df['data1'].corr(df['data2'])\n",
    "print(f'Covariance:{cov}, Correlation: {corr}')"
   ]
  },
  {
   "cell_type": "markdown",
   "metadata": {},
   "source": [
    "### 5. State central limit theorem. Demonstrate CLT with an example. Use python programming for the following steps. Consider a population which satisfies binomial distribution. Draw random samples from the population, find each sample mean. What can you say about the list containing sample means.\n"
   ]
  },
  {
   "cell_type": "code",
   "execution_count": 57,
   "metadata": {},
   "outputs": [
    {
     "data": {
      "image/png": "[encoded data removed]",
      "text/plain": [
       "<Figure size 432x288 with 2 Axes>"
      ]
     },
     "metadata": {
      "needs_background": "light"
     },
     "output_type": "display_data"
    },
    {
     "data": {
      "text/plain": [
       "'As you can see first figure shows a binomial distribution with just two\\noptions as answer 0 or 1 but as you keep taking sample means and \\nplot the sampling distribution it makes a normal distribution'"
      ]
     },
     "execution_count": 57,
     "metadata": {},
     "output_type": "execute_result"
    }
   ],
   "source": [
    "\"\"\"The Central Limit Theorem (CLT) states that the sampling distribution \n",
    "of the sample mean approaches a normal distribution as the sample \n",
    "size increases, regardless of the shape of the population distribution.\n",
    "(usually when n>=30).\n",
    "\n",
    "To illustrate this thing I'll write a code in python but you don't have to\n",
    "just draw the diagram (I don't wanna sit here and import pictures).\n",
    "Let the expirement be tossing an unbiased coin with 10000 tosses\n",
    "let's take 1000 samples from these 10000 population\n",
    "let each sample be of size 30.\n",
    "\n",
    "We will randomly take any values from the 10000 tosses (population)\n",
    "\n",
    "to form 1000 such samples and calculate mean of each sample and then\n",
    "plot all of those means.\"\"\"\n",
    "import matplotlib.pyplot as plt\n",
    "import seaborn as sns\n",
    "\n",
    "# Parameters\n",
    "population_size = 10000  # Size of the population\n",
    "n_samples = 1000  # Number of samples to draw\n",
    "sample_size = 30  # Size of each sample\n",
    "# Generate population following a binomial distribution\n",
    "population = np.random.binomial(n=1, p=0.5, size=population_size)\n",
    "\n",
    "# Draw random samples from the population and calculate sample means\n",
    "sample_means = [np.mean(np.random.choice(population, size=sample_size)) for _ in range(n_samples)]\n",
    "\n",
    "# Plot the histogram of sample means\n",
    "plt.subplot(2,1,1)\n",
    "plt.hist(population,  density=True, color='skyblue', edgecolor='black')\n",
    "plt.subplot(2,1,2)\n",
    "plt.hist(sample_means, bins=30, density=True, color='skyblue', edgecolor='black')\n",
    "plt.title('Distribution of Sample Means (CLT Demonstration)')\n",
    "plt.xlabel('Sample Mean')\n",
    "plt.ylabel('Probability Density')\n",
    "plt.grid(True)\n",
    "\n",
    "plt.tight_layout()\n",
    "plt.show()\n",
    "\n",
    "\n",
    "\"\"\"As you can see first figure shows a binomial distribution with just two\n",
    "options as answer 0 or 1 but as you keep taking sample means and \n",
    "plot the sampling distribution it makes a normal distribution\"\"\""
   ]
  },
  {
   "cell_type": "code",
   "execution_count": 59,
   "metadata": {},
   "outputs": [
    {
     "data": {
      "text/plain": [
       "<seaborn.axisgrid.FacetGrid at 0x17e1aca0>"
      ]
     },
     "execution_count": 59,
     "metadata": {},
     "output_type": "execute_result"
    },
    {
     "data": {
      "image/png": "[encoded data removed]",
      "text/plain": [
       "<Figure size 360x360 with 1 Axes>"
      ]
     },
     "metadata": {
      "needs_background": "light"
     },
     "output_type": "display_data"
    }
   ],
   "source": [
    "sns.displot(sample_means, kind=\"kde\")"
   ]
  },
  {
   "cell_type": "markdown",
   "metadata": {},
   "source": [
    "### 6. What is Baye’s theorem. What are some real-world applications of Bayes’ theorem in fields such as medicine and machine learning?"
   ]
  },
  {
   "cell_type": "markdown",
   "metadata": {},
   "source": [
    "Baye's theorem describes the probability of an event, based on prior knowledge of conditions that might be related to the event. It is expressed mathematically as: <br>\n",
    "<center> P(A∣B)= P(B∣A)⋅P(A)/ P(B)</center> <br>\n",
    "Where:<br>\n",
    "P(A∣B) is the probability of event A occurring given that event B has occurred.<br>\n",
    "P(B∣A) is the probability of event B occurring given that event A has occurred.<br>\n",
    "P(A) and P(B) are the probabilities of events A and B occurring independently.<br>\n",
    "\n",
    "Real-World Applications: <br>\n",
    "1. Medicine:<br>\n",
    "Medical Diagnosis: Bayes' theorem is used in medical diagnosis to assess the probability of a patient having a particular disease given certain symptoms.<br>\n",
    "Genetic Testing: Bayes' theorem is applied in genetics to interpret the results of genetic testing and assess the likelihood of an individual having a genetic disorder based on their genetic makeup.<br>\n",
    "2. Machine Learning:<br>\n",
    "Spam Filtering: Bayes' theorem is used in spam filtering algorithms to classify emails as spam or non-spam. It calculates the probability that an email is spam given certain features (e.g., words in the email).<br>\n",
    "\n",
    "Other examples can be Quality control, fault analysis, risk management,etc."
   ]
  },
  {
   "cell_type": "markdown",
   "metadata": {},
   "source": [
    "### 7. A certain disease affects 1 in every 500 people. A diagnostic test for the disease is 99% accurate when a person has the disease and 95% accurate when a person does not have the disease. If a person tests positive for the disease, what is the probability that they actually have it?\n"
   ]
  },
  {
   "cell_type": "markdown",
   "metadata": {},
   "source": [
    "Let events be, <br>\n",
    "D: The person has the disease.<br>\n",
    "D': The person does not have the disease.<br>\n",
    "𝑇 : The person tests positive for the disease.<br><br>\n",
    "\n",
    "P(D)= 1/5000=0.002<br>\n",
    "P(D')=1−P(D)=0.998<br>\n",
    "P(T∣D)= 0.99 (99% accuracy).<br>\n",
    "P(T∣D')=1-0.95= 0.05 (5% false positive rate).<br><br>\n",
    "P(D|T)=P(T|D)*P(D)/P(T|D)*P(D)+P(T|D')*P(D')=0.038=3.8%<br>\n",
    "\n",
    "I know the result looks weird but that's due to low prevalence of disease\n",
    "(1 in 500)\n",
    "\n"
   ]
  },
  {
   "cell_type": "markdown",
   "metadata": {},
   "source": [
    "### 8. In a spam detection system, 1% of emails are actually spam. The spam filter correctly identifies 95%of spam emails but also incorrectly marks 3% of legitimate emails as spam. If an email is flagged as spam by the filter, what is the probability that it is actually spam?"
   ]
  },
  {
   "cell_type": "markdown",
   "metadata": {},
   "source": [
    "Let events be, <br>\n",
    "S: Mail is spam<br>\n",
    "S': Mail is not spam<br>\n",
    "F: Mail is flagged as spam<br><br>\n",
    "\n",
    "P(S)=0.01<br>\n",
    "P(S')=0.99<br>\n",
    "P(F|S)=0.95<br>\n",
    "P(F|S')=0.03<br><br>\n",
    "\n",
    "P(S|F)= 0.95*0.01/0.95*0.01+0.03+0.99 (please copy formula from above question it is tiring to write)<br>\n",
    "\n",
    "=0.2432= 24.32%"
   ]
  },
  {
   "cell_type": "markdown",
   "metadata": {},
   "source": [
    "### 9. Consider two vectors of length n(input from the user). Take the vectors as input from the user. Write a python program to find the \n",
    "a. It’s dot product <br>\n",
    "b. Distance between two vectors.<br>\n",
    "c. Sum of the two vectors.<br>\n",
    "d. Normalize a vector<br>"
   ]
  },
  {
   "cell_type": "code",
   "execution_count": 4,
   "metadata": {},
   "outputs": [
    {
     "name": "stdout",
     "output_type": "stream",
     "text": [
      "Enter the length of the vectors: 3\n",
      "Enter element 1 of the vector: 1\n",
      "Enter element 2 of the vector: 2\n",
      "Enter element 3 of the vector: 3\n",
      "Enter element 1 of the vector: 2\n",
      "Enter element 2 of the vector: 3\n",
      "Enter element 3 of the vector: 4\n",
      "The dot product of the two vectors is: 20.0\n",
      "The Euclidean distance between the two vectors is: 1.7320508075688772\n",
      "The sum of the two vectors is: [3.0, 5.0, 7.0]\n",
      "The normalized form of the first vector is: [0.2672612419124244, 0.5345224838248488, 0.8017837257372732]\n",
      "The normalized form of the first vector is: [0.5345224838248488, 0.8017837257372732, 1.0690449676496976]\n"
     ]
    }
   ],
   "source": [
    "import numpy as np\n",
    "import math\n",
    "# Take two vectors as input\n",
    "def input_vector(n):\n",
    "    vector = []\n",
    "    for i in range(n):\n",
    "        element = float(input(f\"Enter element {i+1} of the vector: \"))\n",
    "        vector.append(element)\n",
    "    return vector\n",
    "n = int(input(\"Enter the length of the vectors: \"))\n",
    "vector1 = input_vector(n)\n",
    "vector2 = input_vector(n)\n",
    "\n",
    "# a. Dot product of the vectors\n",
    "dot_product = sum(x * y for x, y in zip(vector1, vector2))\n",
    "print(f\"The dot product of the two vectors is: {dot_product}\")\n",
    "\n",
    "# b. Euclidean distance between the vectors\n",
    "distance = math.sqrt(sum((x - y) ** 2 for x, y in zip(vector1, vector2)))\n",
    "print(f\"The Euclidean distance between the two vectors is: {distance}\")\n",
    "\n",
    "# c. Sum of the two vectors\n",
    "sum_vector = [x + y for x, y in zip(vector1, vector2)]\n",
    "print(f\"The sum of the two vectors is: {sum_vector}\")\n",
    "\n",
    "# d. Normalize a vector\n",
    "magnitude1 = math.sqrt(sum(x ** 2 for x in vector1))\n",
    "magnitude2 = math.sqrt(sum(x ** 2 for x in vector1))\n",
    "\n",
    "normalized_vector1 = [x / magnitude1 for x in vector1]\n",
    "normalized_vector2 = [x / magnitude2 for x in vector2]\n",
    "print(f\"The normalized form of the first vector is: {normalized_vector1}\")\n",
    "print(f\"The normalized form of the first vector is: {normalized_vector2}\")"
   ]
  },
  {
   "cell_type": "markdown",
   "metadata": {},
   "source": [
    "### 10. Take two 2 × 2 matrices as user input. Write a python program to find the sum of the two matrices."
   ]
  },
  {
   "cell_type": "code",
   "execution_count": null,
   "metadata": {},
   "outputs": [],
   "source": [
    "print(\"Enter the elements for the first 2x2 matrix:\")\n",
    "matrix1 = [[int(input()) for _ in range(2)] for _ in range(2)]\n",
    "print(\"Enter the elements for the second 2x2 matrix:\")\n",
    "matrix2 = [[int(input()) for _ in range(2)] for _ in range(2)]\n",
    "result = [[matrix1[i][j] + matrix2[i][j] for j in range(len(matrix1[0]))] for i in range(len(matrix1))]\n",
    "result"
   ]
  }
 ],
 "metadata": {
  "kernelspec": {
   "display_name": "Python 3",
   "language": "python",
   "name": "python3"
  },
  "language_info": {
   "codemirror_mode": {
    "name": "ipython",
    "version": 3
   },
   "file_extension": ".py",
   "mimetype": "text/x-python",
   "name": "python",
   "nbconvert_exporter": "python",
   "pygments_lexer": "ipython3",
   "version": "3.8.3"
  }
 },
 "nbformat": 4,
 "nbformat_minor": 4
}
